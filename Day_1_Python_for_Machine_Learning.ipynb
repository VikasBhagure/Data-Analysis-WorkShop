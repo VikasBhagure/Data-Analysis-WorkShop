{
  "nbformat": 4,
  "nbformat_minor": 0,
  "metadata": {
    "colab": {
      "name": "Day 1 -Python for Machine Learning.ipynb",
      "provenance": [],
      "collapsed_sections": []
    },
    "kernelspec": {
      "name": "python3",
      "display_name": "Python 3"
    },
    "language_info": {
      "name": "python"
    }
  },
  "cells": [
    {
      "cell_type": "code",
      "execution_count": 1,
      "metadata": {
        "colab": {
          "base_uri": "https://localhost:8080/"
        },
        "id": "JteAld3Dhzcx",
        "outputId": "8e8c1973-61df-4911-cc66-53d2443ae381"
      },
      "outputs": [
        {
          "output_type": "stream",
          "name": "stdout",
          "text": [
            "We are learning Python for Machine Learning\n"
          ]
        }
      ],
      "source": [
        "print(\"We are learning Python for Machine Learning\")  ## shift+enter to run"
      ]
    },
    {
      "cell_type": "code",
      "source": [
        "30 + 20"
      ],
      "metadata": {
        "colab": {
          "base_uri": "https://localhost:8080/"
        },
        "id": "L8o4UbCajFFL",
        "outputId": "8b22cc8a-0ab4-43a2-c991-53f3b2390894"
      },
      "execution_count": 2,
      "outputs": [
        {
          "output_type": "execute_result",
          "data": {
            "text/plain": [
              "50"
            ]
          },
          "metadata": {},
          "execution_count": 2
        }
      ]
    },
    {
      "cell_type": "code",
      "source": [
        "var1 = 30   ## int\n",
        "var2 = 40.5   ## float\n",
        "var3 = \"Python\"  ## str\n",
        "var4 = 'Umang'   ## str\n",
        "var5 = True   ## bool\n",
        "var6 = 45+7j   ## complex"
      ],
      "metadata": {
        "id": "PmUXoWbhjkUg"
      },
      "execution_count": 3,
      "outputs": []
    },
    {
      "cell_type": "code",
      "source": [
        "print(var1)"
      ],
      "metadata": {
        "colab": {
          "base_uri": "https://localhost:8080/"
        },
        "id": "OpN7L6nakKqH",
        "outputId": "a6749942-cf86-4724-d34b-dd13a434a642"
      },
      "execution_count": 4,
      "outputs": [
        {
          "output_type": "stream",
          "name": "stdout",
          "text": [
            "30\n"
          ]
        }
      ]
    },
    {
      "cell_type": "code",
      "source": [
        "print(var1)\n",
        "print(var2)\n",
        "print(var3)\n",
        "print(var4)\n",
        "print(var5)\n",
        "print(var6)"
      ],
      "metadata": {
        "id": "PNNgarF-kNA3",
        "colab": {
          "base_uri": "https://localhost:8080/"
        },
        "outputId": "6280e6b6-5d1f-42e7-c5f8-d65376f89887"
      },
      "execution_count": 5,
      "outputs": [
        {
          "output_type": "stream",
          "name": "stdout",
          "text": [
            "30\n",
            "40.5\n",
            "Python\n",
            "Umang\n",
            "True\n",
            "(45+7j)\n"
          ]
        }
      ]
    },
    {
      "cell_type": "code",
      "source": [
        "print(var1); print(var2)"
      ],
      "metadata": {
        "colab": {
          "base_uri": "https://localhost:8080/"
        },
        "id": "kUOMPoDBkQ1I",
        "outputId": "3b77f38f-8519-4add-9382-1c70c4ae42f6"
      },
      "execution_count": 6,
      "outputs": [
        {
          "output_type": "stream",
          "name": "stdout",
          "text": [
            "30\n",
            "40.5\n"
          ]
        }
      ]
    },
    {
      "cell_type": "code",
      "source": [
        "print(type(var1))\n",
        "print(type(var2))\n",
        "print(type(var3))\n",
        "print(type(var4))\n",
        "print(type(var5))\n",
        "print(type(var6))"
      ],
      "metadata": {
        "id": "wR-hrGMNkk9K",
        "colab": {
          "base_uri": "https://localhost:8080/"
        },
        "outputId": "eebaa80b-1c1c-4a03-f664-9addb699585c"
      },
      "execution_count": 7,
      "outputs": [
        {
          "output_type": "stream",
          "name": "stdout",
          "text": [
            "<class 'int'>\n",
            "<class 'float'>\n",
            "<class 'str'>\n",
            "<class 'str'>\n",
            "<class 'bool'>\n",
            "<class 'complex'>\n"
          ]
        }
      ]
    },
    {
      "cell_type": "code",
      "source": [
        "mystr = \"We are learning Python for Machine Learning\"\n",
        "print(mystr)"
      ],
      "metadata": {
        "colab": {
          "base_uri": "https://localhost:8080/"
        },
        "id": "OpaklcmRk1gw",
        "outputId": "27a89544-db5c-40a7-b5d9-805a18d963f3"
      },
      "execution_count": 8,
      "outputs": [
        {
          "output_type": "stream",
          "name": "stdout",
          "text": [
            "We are learning Python for Machine Learning\n"
          ]
        }
      ]
    },
    {
      "cell_type": "code",
      "source": [
        "len(mystr)"
      ],
      "metadata": {
        "colab": {
          "base_uri": "https://localhost:8080/"
        },
        "id": "aTnBBizelpgG",
        "outputId": "583db40e-c157-4ff5-ef97-384b174a932e"
      },
      "execution_count": 9,
      "outputs": [
        {
          "output_type": "execute_result",
          "data": {
            "text/plain": [
              "43"
            ]
          },
          "metadata": {},
          "execution_count": 9
        }
      ]
    },
    {
      "cell_type": "code",
      "source": [
        "mystr[3]"
      ],
      "metadata": {
        "colab": {
          "base_uri": "https://localhost:8080/",
          "height": 35
        },
        "id": "3tNdzg7glz4Q",
        "outputId": "dbda4ce9-cf8b-4db0-a391-17c1673cb57f"
      },
      "execution_count": 10,
      "outputs": [
        {
          "output_type": "execute_result",
          "data": {
            "text/plain": [
              "'a'"
            ],
            "application/vnd.google.colaboratory.intrinsic+json": {
              "type": "string"
            }
          },
          "metadata": {},
          "execution_count": 10
        }
      ]
    },
    {
      "cell_type": "code",
      "source": [
        "mystr[10:20]  ## 10-19"
      ],
      "metadata": {
        "colab": {
          "base_uri": "https://localhost:8080/",
          "height": 35
        },
        "id": "sLPH9pISl3ef",
        "outputId": "760bb7fe-4038-4a1e-c149-c1ffa5266b32"
      },
      "execution_count": 11,
      "outputs": [
        {
          "output_type": "execute_result",
          "data": {
            "text/plain": [
              "'rning Pyth'"
            ],
            "application/vnd.google.colaboratory.intrinsic+json": {
              "type": "string"
            }
          },
          "metadata": {},
          "execution_count": 11
        }
      ]
    },
    {
      "cell_type": "code",
      "source": [
        "mystr[10:30:3]   ## step of 3"
      ],
      "metadata": {
        "colab": {
          "base_uri": "https://localhost:8080/",
          "height": 35
        },
        "id": "pg0FKFLxmANe",
        "outputId": "b4f315ea-08f6-4286-e29c-3403ccefb3c7"
      },
      "execution_count": 12,
      "outputs": [
        {
          "output_type": "execute_result",
          "data": {
            "text/plain": [
              "'rnPh ra'"
            ],
            "application/vnd.google.colaboratory.intrinsic+json": {
              "type": "string"
            }
          },
          "metadata": {},
          "execution_count": 12
        }
      ]
    },
    {
      "cell_type": "code",
      "source": [
        "### Core Datatype - List | Tuple | Dictionary | Sets | Arrays"
      ],
      "metadata": {
        "id": "XIrO-eC2mJYK"
      },
      "execution_count": 13,
      "outputs": []
    },
    {
      "cell_type": "code",
      "source": [
        "### List\n",
        "# 1. Group of Heterogenous Data which is mutable\n",
        "# 2. []\n",
        "\n",
        "## Tuple\n",
        "# 1. Group of Heterogenous Data which is immutable\n",
        "# 2. ()\n",
        "\n",
        "## Dictionary\n",
        "# 1. Data in the form of key-value pairs\n",
        "# 2. {key1:value1,key2:value2}\n",
        "\n",
        "## Set\n",
        "# 1. Unordered collection of Heterogenous data\n",
        "# 2. {a1,a2,a3}"
      ],
      "metadata": {
        "id": "tOn6b-lOmqEv"
      },
      "execution_count": 14,
      "outputs": []
    },
    {
      "cell_type": "code",
      "source": [
        "mylst = [20,20.5,\"Umang\",True,45+7j,[20,302,103]]\n",
        "print(mylst)"
      ],
      "metadata": {
        "colab": {
          "base_uri": "https://localhost:8080/"
        },
        "id": "iH9F7mwmm_e0",
        "outputId": "ad563137-fdf9-432e-81f3-70c089ebd895"
      },
      "execution_count": 15,
      "outputs": [
        {
          "output_type": "stream",
          "name": "stdout",
          "text": [
            "[20, 20.5, 'Umang', True, (45+7j), [20, 302, 103]]\n"
          ]
        }
      ]
    },
    {
      "cell_type": "code",
      "source": [
        "print(type(mylst))"
      ],
      "metadata": {
        "colab": {
          "base_uri": "https://localhost:8080/"
        },
        "id": "ogRys9QtnJjN",
        "outputId": "7906ff90-9991-44a0-fbf1-ad5fa9be341e"
      },
      "execution_count": 16,
      "outputs": [
        {
          "output_type": "stream",
          "name": "stdout",
          "text": [
            "<class 'list'>\n"
          ]
        }
      ]
    },
    {
      "cell_type": "code",
      "source": [
        "mylst[2]"
      ],
      "metadata": {
        "colab": {
          "base_uri": "https://localhost:8080/",
          "height": 35
        },
        "id": "bc3OuvoFnMOG",
        "outputId": "d16dee26-3e4a-45d0-f0e5-33caf687b1a8"
      },
      "execution_count": 17,
      "outputs": [
        {
          "output_type": "execute_result",
          "data": {
            "text/plain": [
              "'Umang'"
            ],
            "application/vnd.google.colaboratory.intrinsic+json": {
              "type": "string"
            }
          },
          "metadata": {},
          "execution_count": 17
        }
      ]
    },
    {
      "cell_type": "code",
      "source": [
        "mytuple = (20,20.5,\"Umang\",True,45+7j,[20,302,103])"
      ],
      "metadata": {
        "id": "aing0PvBnTJ6"
      },
      "execution_count": 18,
      "outputs": []
    },
    {
      "cell_type": "code",
      "source": [
        "print(mytuple)"
      ],
      "metadata": {
        "colab": {
          "base_uri": "https://localhost:8080/"
        },
        "id": "4qkVtFAtoV-F",
        "outputId": "4ed15ecb-d531-4598-8bdb-a08be19189f2"
      },
      "execution_count": 19,
      "outputs": [
        {
          "output_type": "stream",
          "name": "stdout",
          "text": [
            "(20, 20.5, 'Umang', True, (45+7j), [20, 302, 103])\n"
          ]
        }
      ]
    },
    {
      "cell_type": "code",
      "source": [
        "myset = {20,20.5,\"Umang\",True,45+7j}\n",
        "print(myset)"
      ],
      "metadata": {
        "colab": {
          "base_uri": "https://localhost:8080/"
        },
        "id": "QbGr8Ax_oXZP",
        "outputId": "327f8a99-2912-4f38-ff37-f471f5d52fd0"
      },
      "execution_count": 20,
      "outputs": [
        {
          "output_type": "stream",
          "name": "stdout",
          "text": [
            "{True, (45+7j), 'Umang', 20, 20.5}\n"
          ]
        }
      ]
    },
    {
      "cell_type": "code",
      "source": [
        "mydict = {\"name\":\"Umang\",\"age\":30,\"place\":\"Patna\"}\n",
        "mydict"
      ],
      "metadata": {
        "colab": {
          "base_uri": "https://localhost:8080/"
        },
        "id": "42qNqx1poezs",
        "outputId": "42b4f3fe-0f43-4c0c-fa5b-6e0440705259"
      },
      "execution_count": 21,
      "outputs": [
        {
          "output_type": "execute_result",
          "data": {
            "text/plain": [
              "{'age': 30, 'name': 'Umang', 'place': 'Patna'}"
            ]
          },
          "metadata": {},
          "execution_count": 21
        }
      ]
    },
    {
      "cell_type": "code",
      "source": [
        "mydict['name']"
      ],
      "metadata": {
        "colab": {
          "base_uri": "https://localhost:8080/",
          "height": 35
        },
        "id": "IM-wgpvTpGzB",
        "outputId": "a3bcbdc7-587c-4ff8-bb8b-8de811dd7720"
      },
      "execution_count": 22,
      "outputs": [
        {
          "output_type": "execute_result",
          "data": {
            "text/plain": [
              "'Umang'"
            ],
            "application/vnd.google.colaboratory.intrinsic+json": {
              "type": "string"
            }
          },
          "metadata": {},
          "execution_count": 22
        }
      ]
    },
    {
      "cell_type": "code",
      "source": [
        "#### Conditional Statement \n",
        "num = int(input(\"Enter a number:\"))\n",
        "if num >=0:\n",
        "  print(\"Positive Number\")\n",
        "else:\n",
        "  print(\"Negative Number\")"
      ],
      "metadata": {
        "colab": {
          "base_uri": "https://localhost:8080/"
        },
        "id": "VYhNznVApLeF",
        "outputId": "16ffb11e-41a2-426f-e9e0-51103458fa5f"
      },
      "execution_count": 23,
      "outputs": [
        {
          "output_type": "stream",
          "name": "stdout",
          "text": [
            "Enter a number:4\n",
            "Positive Number\n"
          ]
        }
      ]
    },
    {
      "cell_type": "code",
      "source": [
        "#### Conditional Statement \n",
        "num = int(input(\"Enter a number:\"))\n",
        "if num >0:\n",
        "  print(\"Positive Number\")\n",
        "elif num<0:\n",
        "  print(\"Negative Number\")\n",
        "else:\n",
        "  print(\"Neither Negative nor Positive, its a zero\")"
      ],
      "metadata": {
        "colab": {
          "base_uri": "https://localhost:8080/"
        },
        "id": "fH41Qd3lqey4",
        "outputId": "c2b069fa-66c2-4aa6-9190-71654c8d8ba1"
      },
      "execution_count": 24,
      "outputs": [
        {
          "output_type": "stream",
          "name": "stdout",
          "text": [
            "Enter a number:-5\n",
            "Negative Number\n"
          ]
        }
      ]
    },
    {
      "cell_type": "code",
      "source": [
        "num1 = float(input(\"Enter first number:\"))\n",
        "num2 = float(input(\"Enter second number:\"))\n",
        "op = input(\"Enter Option:\")\n",
        "if op == \"+\":\n",
        "  print(num1+num2)\n",
        "elif op == \"-\":\n",
        "  print(num1-num2)\n",
        "elif op == \"*\":\n",
        "  print(num1*num2)\n",
        "elif op == \"/\":\n",
        "  print(num1/num2)\n",
        "else:\n",
        "  print(\"Invalid Operation\")"
      ],
      "metadata": {
        "id": "ALT6HuPkrLyo",
        "colab": {
          "base_uri": "https://localhost:8080/"
        },
        "outputId": "151e637d-b9f4-446e-eb44-305cd16ada1b"
      },
      "execution_count": 25,
      "outputs": [
        {
          "output_type": "stream",
          "name": "stdout",
          "text": [
            "Enter first number:-8\n",
            "Enter second number:7\n",
            "Enter Option:+\n",
            "-1.0\n"
          ]
        }
      ]
    },
    {
      "cell_type": "code",
      "source": [
        "#### Loops - For | While"
      ],
      "metadata": {
        "id": "F8c0qBVYr_zn"
      },
      "execution_count": 26,
      "outputs": []
    },
    {
      "cell_type": "code",
      "source": [
        "i = 0\n",
        "while(i<10):\n",
        "  print(\"The value of i is\",i)\n",
        "  i = i+1\n",
        "  ## i+=1"
      ],
      "metadata": {
        "id": "pyYfAuKmsZ5O",
        "colab": {
          "base_uri": "https://localhost:8080/"
        },
        "outputId": "01e9ebd1-f27d-4647-ac10-75c39acc7b53"
      },
      "execution_count": 27,
      "outputs": [
        {
          "output_type": "stream",
          "name": "stdout",
          "text": [
            "The value of i is 0\n",
            "The value of i is 1\n",
            "The value of i is 2\n",
            "The value of i is 3\n",
            "The value of i is 4\n",
            "The value of i is 5\n",
            "The value of i is 6\n",
            "The value of i is 7\n",
            "The value of i is 8\n",
            "The value of i is 9\n"
          ]
        }
      ]
    },
    {
      "cell_type": "code",
      "source": [
        "mylst = [\"Mumbai\",\"Delhi\",\"Varanasi\",\"Chennai\",\"Pune\"]\n",
        "i = 0\n",
        "while(i<len(mylst)):\n",
        "  print(mylst[i])\n",
        "  i+=1"
      ],
      "metadata": {
        "id": "NpJOQHNDs4F4",
        "colab": {
          "base_uri": "https://localhost:8080/"
        },
        "outputId": "0d2c4fc1-2e3a-4b03-8e20-c508373d7bb0"
      },
      "execution_count": 28,
      "outputs": [
        {
          "output_type": "stream",
          "name": "stdout",
          "text": [
            "Mumbai\n",
            "Delhi\n",
            "Varanasi\n",
            "Chennai\n",
            "Pune\n"
          ]
        }
      ]
    },
    {
      "cell_type": "code",
      "source": [
        "for i in range(10):\n",
        "  print(\"The value of i is\",i)"
      ],
      "metadata": {
        "id": "KIJ-DEKBtcQ-",
        "colab": {
          "base_uri": "https://localhost:8080/"
        },
        "outputId": "97b5f20f-afa2-45c8-bbf1-71d3f59910e3"
      },
      "execution_count": 29,
      "outputs": [
        {
          "output_type": "stream",
          "name": "stdout",
          "text": [
            "The value of i is 0\n",
            "The value of i is 1\n",
            "The value of i is 2\n",
            "The value of i is 3\n",
            "The value of i is 4\n",
            "The value of i is 5\n",
            "The value of i is 6\n",
            "The value of i is 7\n",
            "The value of i is 8\n",
            "The value of i is 9\n"
          ]
        }
      ]
    },
    {
      "cell_type": "code",
      "source": [
        "for i in range(10,20):\n",
        "  print(\"The value of i is\",i)"
      ],
      "metadata": {
        "id": "z-cHFy79tzfE",
        "colab": {
          "base_uri": "https://localhost:8080/"
        },
        "outputId": "2b072760-69c9-469d-afb2-fd84dede24d7"
      },
      "execution_count": 30,
      "outputs": [
        {
          "output_type": "stream",
          "name": "stdout",
          "text": [
            "The value of i is 10\n",
            "The value of i is 11\n",
            "The value of i is 12\n",
            "The value of i is 13\n",
            "The value of i is 14\n",
            "The value of i is 15\n",
            "The value of i is 16\n",
            "The value of i is 17\n",
            "The value of i is 18\n",
            "The value of i is 19\n"
          ]
        }
      ]
    },
    {
      "cell_type": "code",
      "source": [
        "for i in range(10,30,3):\n",
        "  print(\"The value of i is\",i)"
      ],
      "metadata": {
        "id": "OEBUCOAEt6yA",
        "colab": {
          "base_uri": "https://localhost:8080/"
        },
        "outputId": "093d34c0-52cb-435f-a022-89cb50eeaf9a"
      },
      "execution_count": 31,
      "outputs": [
        {
          "output_type": "stream",
          "name": "stdout",
          "text": [
            "The value of i is 10\n",
            "The value of i is 13\n",
            "The value of i is 16\n",
            "The value of i is 19\n",
            "The value of i is 22\n",
            "The value of i is 25\n",
            "The value of i is 28\n"
          ]
        }
      ]
    },
    {
      "cell_type": "code",
      "source": [
        "mylst = [\"Mumbai\",\"Delhi\",\"Varanasi\",\"Chennai\",\"Pune\"]\n",
        "for i in range(len(mylst)):\n",
        "  print(mylst[i])"
      ],
      "metadata": {
        "colab": {
          "base_uri": "https://localhost:8080/"
        },
        "id": "sKB-IJO-uDNy",
        "outputId": "5eda77d8-37b7-44f3-8ce3-403b65d2cdb7"
      },
      "execution_count": 32,
      "outputs": [
        {
          "output_type": "stream",
          "name": "stdout",
          "text": [
            "Mumbai\n",
            "Delhi\n",
            "Varanasi\n",
            "Chennai\n",
            "Pune\n"
          ]
        }
      ]
    },
    {
      "cell_type": "code",
      "source": [
        "mylst = [\"Mumbai\",\"Delhi\",\"Varanasi\",\"Chennai\",\"Pune\"]\n",
        "for i in mylst:\n",
        "  print(i)"
      ],
      "metadata": {
        "colab": {
          "base_uri": "https://localhost:8080/"
        },
        "id": "Pi80kPSAuZ7w",
        "outputId": "72842830-4ed6-4b65-fab5-012de38cc9d8"
      },
      "execution_count": 33,
      "outputs": [
        {
          "output_type": "stream",
          "name": "stdout",
          "text": [
            "Mumbai\n",
            "Delhi\n",
            "Varanasi\n",
            "Chennai\n",
            "Pune\n"
          ]
        }
      ]
    },
    {
      "cell_type": "code",
      "source": [
        "#### Functions\n",
        "# 1. Function without argument\n",
        "# 2. Function with argument\n",
        "# 3. Function with default argument\n",
        "# 4. Function with return statement"
      ],
      "metadata": {
        "id": "4ABrCAeeuvsT"
      },
      "execution_count": 34,
      "outputs": []
    },
    {
      "cell_type": "code",
      "source": [
        "# 1. Function without argument\n",
        "def myFuncn():\n",
        "  print(\"This is my Function\")"
      ],
      "metadata": {
        "id": "a0SGMAgRvBs7"
      },
      "execution_count": 35,
      "outputs": []
    },
    {
      "cell_type": "code",
      "source": [
        "myFuncn()\n",
        "myFuncn()\n",
        "myFuncn()"
      ],
      "metadata": {
        "colab": {
          "base_uri": "https://localhost:8080/"
        },
        "id": "yOjGNZyKv341",
        "outputId": "2b8597ab-add5-449c-fb3c-0a897e828b60"
      },
      "execution_count": 36,
      "outputs": [
        {
          "output_type": "stream",
          "name": "stdout",
          "text": [
            "This is my Function\n",
            "This is my Function\n",
            "This is my Function\n"
          ]
        }
      ]
    },
    {
      "cell_type": "code",
      "source": [
        "# 2. Function with argument\n",
        "def myCalc(a,b,op):\n",
        "  if op == \"+\":\n",
        "    print(a+b)\n",
        "  elif op == \"-\":\n",
        "    print(a-b)\n",
        "  elif op == \"*\":\n",
        "    print(a*b)\n",
        "  elif op == \"/\":\n",
        "    print(a/b)\n",
        "  else:\n",
        "    print(\"Invalid Operation\")"
      ],
      "metadata": {
        "id": "1F10GEP5wDcO"
      },
      "execution_count": 37,
      "outputs": []
    },
    {
      "cell_type": "code",
      "source": [
        "myCalc(40,10,\"*\")\n",
        "myCalc(40,10,\"+\")\n",
        "myCalc(40,10,\"/\")\n",
        "myCalc(40,10,\"-\")"
      ],
      "metadata": {
        "colab": {
          "base_uri": "https://localhost:8080/"
        },
        "id": "9OXanewLwevy",
        "outputId": "0111d4ce-2d49-4c4a-8ec5-3d57e2f8b801"
      },
      "execution_count": 38,
      "outputs": [
        {
          "output_type": "stream",
          "name": "stdout",
          "text": [
            "400\n",
            "50\n",
            "4.0\n",
            "30\n"
          ]
        }
      ]
    },
    {
      "cell_type": "code",
      "source": [
        "myCalc(op=\"+\",a=40,b=10)"
      ],
      "metadata": {
        "colab": {
          "base_uri": "https://localhost:8080/"
        },
        "id": "Le_YwJExwhlx",
        "outputId": "ce2ecc2c-8679-4086-cb47-874fd1cd67e9"
      },
      "execution_count": 39,
      "outputs": [
        {
          "output_type": "stream",
          "name": "stdout",
          "text": [
            "50\n"
          ]
        }
      ]
    },
    {
      "cell_type": "code",
      "source": [
        "# 3. Function with default argument\n",
        "def myCalc(a,b,op=\"+\"):\n",
        "  if op == \"+\":\n",
        "    print(a+b)\n",
        "  elif op == \"-\":\n",
        "    print(a-b)\n",
        "  elif op == \"*\":\n",
        "    print(a*b)\n",
        "  elif op == \"/\":\n",
        "    print(a/b)\n",
        "  else:\n",
        "    print(\"Invalid Operation\")"
      ],
      "metadata": {
        "id": "bgjPnn4cw0F6"
      },
      "execution_count": 40,
      "outputs": []
    },
    {
      "cell_type": "code",
      "source": [
        "myCalc(40,10)"
      ],
      "metadata": {
        "colab": {
          "base_uri": "https://localhost:8080/"
        },
        "id": "relCDaLJxWIs",
        "outputId": "dae97aca-1f20-44d1-a6c3-0d162f8ffd32"
      },
      "execution_count": 41,
      "outputs": [
        {
          "output_type": "stream",
          "name": "stdout",
          "text": [
            "50\n"
          ]
        }
      ]
    },
    {
      "cell_type": "code",
      "source": [
        "myCalc(40,10,\"/\")"
      ],
      "metadata": {
        "colab": {
          "base_uri": "https://localhost:8080/"
        },
        "id": "YGJFjOE0xYm4",
        "outputId": "7426d8dd-42dd-4e58-a90c-918726944520"
      },
      "execution_count": 42,
      "outputs": [
        {
          "output_type": "stream",
          "name": "stdout",
          "text": [
            "4.0\n"
          ]
        }
      ]
    },
    {
      "cell_type": "code",
      "source": [
        "# 4. Function with return statement\n",
        "def myCalc_ret(a,b,op=\"+\"):\n",
        "  if op == \"+\":\n",
        "    return(a+b)\n",
        "  elif op == \"-\":\n",
        "    return(a-b)\n",
        "  elif op == \"*\":\n",
        "    return(a*b)\n",
        "  elif op == \"/\":\n",
        "    return(a/b)\n",
        "  else:\n",
        "    return(\"Invalid Operation\")"
      ],
      "metadata": {
        "id": "5O7p3F7VxavY"
      },
      "execution_count": 43,
      "outputs": []
    },
    {
      "cell_type": "code",
      "source": [
        "var1 = myCalc(45,45,\"+\")"
      ],
      "metadata": {
        "colab": {
          "base_uri": "https://localhost:8080/"
        },
        "id": "J6t04EZjxvnQ",
        "outputId": "15c103b2-22ef-45c2-e27d-42edddef9d98"
      },
      "execution_count": 44,
      "outputs": [
        {
          "output_type": "stream",
          "name": "stdout",
          "text": [
            "90\n"
          ]
        }
      ]
    },
    {
      "cell_type": "code",
      "source": [
        "print(var1)"
      ],
      "metadata": {
        "colab": {
          "base_uri": "https://localhost:8080/"
        },
        "id": "j8k9zk7cyW_A",
        "outputId": "41eef0e4-64e3-46e9-d012-d83a7c77ba0e"
      },
      "execution_count": 45,
      "outputs": [
        {
          "output_type": "stream",
          "name": "stdout",
          "text": [
            "None\n"
          ]
        }
      ]
    },
    {
      "cell_type": "code",
      "source": [
        "var2 = myCalc_ret(45,45,\"+\")"
      ],
      "metadata": {
        "id": "3uKlKZmKybAn"
      },
      "execution_count": 46,
      "outputs": []
    },
    {
      "cell_type": "code",
      "source": [
        "print(var2)"
      ],
      "metadata": {
        "id": "ypG02MSYyqQh",
        "outputId": "4105d6fa-5832-4cad-f709-e36b5ef4733c",
        "colab": {
          "base_uri": "https://localhost:8080/"
        }
      },
      "execution_count": 47,
      "outputs": [
        {
          "output_type": "stream",
          "name": "stdout",
          "text": [
            "90\n"
          ]
        }
      ]
    }
  ]
}