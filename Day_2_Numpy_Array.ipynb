{
  "nbformat": 4,
  "nbformat_minor": 0,
  "metadata": {
    "colab": {
      "name": "Day 2 - Numpy - Array.ipynb",
      "provenance": [],
      "collapsed_sections": []
    },
    "kernelspec": {
      "name": "python3",
      "display_name": "Python 3"
    },
    "language_info": {
      "name": "python"
    }
  },
  "cells": [
    {
      "cell_type": "markdown",
      "source": [
        "### Numpy\n",
        "1. Package/Library in Python to perform mathematical operations on Array\n",
        "2. Work on Multidimentional Arrays (1d,2d,3d)\n",
        "3. Array - Group of Homogenous Data\n",
        "4. Array can not store multiple type of data but list does\n"
      ],
      "metadata": {
        "id": "Alh6-wdspqg6"
      }
    },
    {
      "cell_type": "code",
      "source": [
        "a1 = [1,2,3,4,5]\n",
        "a2 = [10,11,12,13,14]\n",
        "a3 = a1 + a2    ## [11,13,15,17,19] without using np it concatinated\n",
        "a3"
      ],
      "metadata": {
        "colab": {
          "base_uri": "https://localhost:8080/"
        },
        "id": "btH3eIoTpZ7q",
        "outputId": "3ac4377d-3f47-451e-851e-8dbb978cff44"
      },
      "execution_count": 1,
      "outputs": [
        {
          "output_type": "execute_result",
          "data": {
            "text/plain": [
              "[1, 2, 3, 4, 5, 10, 11, 12, 13, 14]"
            ]
          },
          "metadata": {},
          "execution_count": 1
        }
      ]
    },
    {
      "cell_type": "code",
      "source": [
        "import numpy as np"
      ],
      "metadata": {
        "id": "VaxY5gYNqBGS"
      },
      "execution_count": 2,
      "outputs": []
    },
    {
      "cell_type": "code",
      "source": [
        "a1 = np.array([1,2,3,4,5])\n",
        "a2 = np.array([10,11,12,13,14])\n",
        "type(a1)"
      ],
      "metadata": {
        "colab": {
          "base_uri": "https://localhost:8080/"
        },
        "id": "3gz2UsZeqWZG",
        "outputId": "6b73d0be-f248-46ea-e52b-1a6571bdadd4"
      },
      "execution_count": 3,
      "outputs": [
        {
          "output_type": "execute_result",
          "data": {
            "text/plain": [
              "numpy.ndarray"
            ]
          },
          "metadata": {},
          "execution_count": 3
        }
      ]
    },
    {
      "cell_type": "code",
      "source": [
        "a3 = a1 + a2\n",
        "print(a3)"
      ],
      "metadata": {
        "colab": {
          "base_uri": "https://localhost:8080/"
        },
        "id": "_o7NNCKpqe4p",
        "outputId": "3e9366ed-8df4-4a0e-baed-0a08bd6c50e0"
      },
      "execution_count": 4,
      "outputs": [
        {
          "output_type": "stream",
          "name": "stdout",
          "text": [
            "[11 13 15 17 19]\n"
          ]
        }
      ]
    },
    {
      "cell_type": "code",
      "source": [
        "a1 = np.array([1,3,4,5,3,4,5,3,5,10])   ## 1d array\n",
        "a2 = np.array([[1,3,4,5,3,4,5,3,5,10]])   ## 2d array\n",
        "a3 = np.array([[1,3,4,5,3,4,5,3,5,10],[1,3,4,5,3,4,5,3,5,10],[1,3,4,5,3,4,5,3,5,10]])  ## 2d array\n",
        "a4 = np.array([[[1,3,4,5,3,4,5,3,5,10],[1,3,4,5,3,4,5,3,5,10],[1,3,4,5,3,4,5,3,5,10]]])  ## 3d array"
      ],
      "metadata": {
        "id": "JD4D3xDSquD-"
      },
      "execution_count": 5,
      "outputs": []
    },
    {
      "cell_type": "code",
      "source": [
        "# To check the array \n",
        "print(a1.ndim)  \n",
        "print(a2.ndim)\n",
        "print(a3.ndim)\n",
        "print(a4.ndim)"
      ],
      "metadata": {
        "id": "CeFG53WVsU34",
        "colab": {
          "base_uri": "https://localhost:8080/"
        },
        "outputId": "4739f920-36ed-4927-930c-7248a5aae52d"
      },
      "execution_count": 6,
      "outputs": [
        {
          "output_type": "stream",
          "name": "stdout",
          "text": [
            "1\n",
            "2\n",
            "2\n",
            "3\n"
          ]
        }
      ]
    },
    {
      "cell_type": "code",
      "source": [
        "print(len(a1))\n",
        "print(len(a2))\n",
        "print(len(a3))\n",
        "print(len(a4))"
      ],
      "metadata": {
        "colab": {
          "base_uri": "https://localhost:8080/"
        },
        "id": "TF-HsLuAsekN",
        "outputId": "637dd143-9825-4cd4-9778-bd206d0907f4"
      },
      "execution_count": 7,
      "outputs": [
        {
          "output_type": "stream",
          "name": "stdout",
          "text": [
            "10\n",
            "1\n",
            "3\n",
            "1\n"
          ]
        }
      ]
    },
    {
      "cell_type": "code",
      "source": [
        "a4"
      ],
      "metadata": {
        "colab": {
          "base_uri": "https://localhost:8080/"
        },
        "id": "baoWlhjos_id",
        "outputId": "656d4a38-b1aa-4d8c-a104-95a7c50585e8"
      },
      "execution_count": 8,
      "outputs": [
        {
          "output_type": "execute_result",
          "data": {
            "text/plain": [
              "array([[[ 1,  3,  4,  5,  3,  4,  5,  3,  5, 10],\n",
              "        [ 1,  3,  4,  5,  3,  4,  5,  3,  5, 10],\n",
              "        [ 1,  3,  4,  5,  3,  4,  5,  3,  5, 10]]])"
            ]
          },
          "metadata": {},
          "execution_count": 8
        }
      ]
    },
    {
      "cell_type": "code",
      "source": [
        "### 2d array - len - it will give no. of (2-1)d array\n",
        "### 3d array - len - it will give no. of (3-1)d array"
      ],
      "metadata": {
        "id": "d-dJ40uPtmQI"
      },
      "execution_count": 9,
      "outputs": []
    },
    {
      "cell_type": "code",
      "source": [
        "print(a1.shape)\n",
        "print(a2.shape)\n",
        "print(a3.shape)\n",
        "print(a4.shape)"
      ],
      "metadata": {
        "colab": {
          "base_uri": "https://localhost:8080/"
        },
        "id": "tWxfH31aurUd",
        "outputId": "b2d71fa5-3fab-45b5-f08c-a10a7fc9a6cf"
      },
      "execution_count": 10,
      "outputs": [
        {
          "output_type": "stream",
          "name": "stdout",
          "text": [
            "(10,)\n",
            "(1, 10)\n",
            "(3, 10)\n",
            "(1, 3, 10)\n"
          ]
        }
      ]
    },
    {
      "cell_type": "code",
      "source": [
        "print(a1.dtype)\n",
        "print(a2.dtype)\n",
        "print(a3.dtype)\n",
        "print(a4.dtype)"
      ],
      "metadata": {
        "colab": {
          "base_uri": "https://localhost:8080/"
        },
        "id": "Dw5B94I1uubJ",
        "outputId": "903fa43a-651f-49e2-df39-7e6e96c79ab7"
      },
      "execution_count": 11,
      "outputs": [
        {
          "output_type": "stream",
          "name": "stdout",
          "text": [
            "int64\n",
            "int64\n",
            "int64\n",
            "int64\n"
          ]
        }
      ]
    },
    {
      "cell_type": "code",
      "source": [
        "a4.shape[1]"
      ],
      "metadata": {
        "colab": {
          "base_uri": "https://localhost:8080/"
        },
        "id": "pIH_BZIKwnqI",
        "outputId": "1cb514fa-4a54-43f4-e660-189db11c1066"
      },
      "execution_count": 12,
      "outputs": [
        {
          "output_type": "execute_result",
          "data": {
            "text/plain": [
              "3"
            ]
          },
          "metadata": {},
          "execution_count": 12
        }
      ]
    },
    {
      "cell_type": "code",
      "source": [
        "#### Random Data"
      ],
      "metadata": {
        "id": "Mi39iFoww4S5"
      },
      "execution_count": 13,
      "outputs": []
    },
    {
      "cell_type": "code",
      "source": [
        "np.random.randint(100)   ## single random number 0 to 99"
      ],
      "metadata": {
        "colab": {
          "base_uri": "https://localhost:8080/"
        },
        "id": "hjwZEoZcxHmL",
        "outputId": "47493c9a-5a77-4d15-921a-fb148b30840a"
      },
      "execution_count": 14,
      "outputs": [
        {
          "output_type": "execute_result",
          "data": {
            "text/plain": [
              "90"
            ]
          },
          "metadata": {},
          "execution_count": 14
        }
      ]
    },
    {
      "cell_type": "code",
      "source": [
        "np.random.seed(100)   ## any value b/w 0 to 2**32 -1 (4294967295)\n",
        "print(np.random.randint(100))"
      ],
      "metadata": {
        "colab": {
          "base_uri": "https://localhost:8080/"
        },
        "id": "yFQRe0mUxqDU",
        "outputId": "1ce9e57a-076d-4ebb-b6ca-46950257247b"
      },
      "execution_count": 15,
      "outputs": [
        {
          "output_type": "stream",
          "name": "stdout",
          "text": [
            "8\n"
          ]
        }
      ]
    },
    {
      "cell_type": "code",
      "source": [
        "np.random.randint(100,1000)   ## 100-999"
      ],
      "metadata": {
        "colab": {
          "base_uri": "https://localhost:8080/"
        },
        "id": "xLm7prvvxxmZ",
        "outputId": "63fdb689-95dc-4961-f43d-d70ee93ea967"
      },
      "execution_count": 16,
      "outputs": [
        {
          "output_type": "execute_result",
          "data": {
            "text/plain": [
              "892"
            ]
          },
          "metadata": {},
          "execution_count": 16
        }
      ]
    },
    {
      "cell_type": "code",
      "source": [
        "np.random.randint(100,1000,100)"
      ],
      "metadata": {
        "colab": {
          "base_uri": "https://localhost:8080/"
        },
        "id": "fWwij84lxx6m",
        "outputId": "cd71659d-4c7f-4f1a-b16c-bc6767a78c4f"
      },
      "execution_count": 17,
      "outputs": [
        {
          "output_type": "execute_result",
          "data": {
            "text/plain": [
              "array([935, 971, 955, 179, 450, 966, 153, 678, 838, 626, 902, 852, 380,\n",
              "       755, 328, 975, 416, 670, 607, 749, 193, 186, 486, 767, 976, 515,\n",
              "       997, 241, 857, 823, 712, 104, 703, 935, 235, 149, 531, 805, 417,\n",
              "       882, 795, 863, 436, 102, 989, 717, 578, 503, 163, 281, 383, 924,\n",
              "       338, 469, 403, 779, 977, 906, 272, 374, 292, 537, 814, 373, 684,\n",
              "       625, 718, 130, 117, 153, 168, 588, 447, 575, 793, 946, 100, 113,\n",
              "       285, 560, 462, 231, 682, 743, 312, 819, 494, 315, 602, 595, 743,\n",
              "       973, 276, 280, 911, 136, 873, 939, 138, 314])"
            ]
          },
          "metadata": {},
          "execution_count": 17
        }
      ]
    },
    {
      "cell_type": "code",
      "source": [
        "np.random.randint(100,1000,(5,5))"
      ],
      "metadata": {
        "colab": {
          "base_uri": "https://localhost:8080/"
        },
        "id": "3O1GIAP4zUW2",
        "outputId": "a480e42d-0233-4bf2-8d56-8164d8e47c4a"
      },
      "execution_count": 18,
      "outputs": [
        {
          "output_type": "execute_result",
          "data": {
            "text/plain": [
              "array([[194, 838, 270, 952, 195],\n",
              "       [726, 849, 731, 176, 901],\n",
              "       [414, 202, 506, 356, 862],\n",
              "       [795, 326, 921, 296, 546],\n",
              "       [918, 552, 519, 507, 865]])"
            ]
          },
          "metadata": {},
          "execution_count": 18
        }
      ]
    },
    {
      "cell_type": "code",
      "source": [
        "np.random.randint(100,1000,(3,5,5))"
      ],
      "metadata": {
        "colab": {
          "base_uri": "https://localhost:8080/"
        },
        "id": "JeO02iDVzkJb",
        "outputId": "081e8dd6-34db-442d-b59c-831a72601159"
      },
      "execution_count": 19,
      "outputs": [
        {
          "output_type": "execute_result",
          "data": {
            "text/plain": [
              "array([[[621, 596, 889, 509, 538],\n",
              "        [362, 777, 970, 222, 728],\n",
              "        [286, 395, 719, 834, 919],\n",
              "        [386, 989, 678, 343, 539],\n",
              "        [373, 913, 585, 189, 529]],\n",
              "\n",
              "       [[903, 116, 624, 954, 566],\n",
              "        [721, 167, 320, 323, 888],\n",
              "        [238, 876, 573, 812, 514],\n",
              "        [758, 449, 987, 704, 656],\n",
              "        [345, 157, 483, 868, 685]],\n",
              "\n",
              "       [[844, 794, 934, 756, 489],\n",
              "        [535, 446, 134, 551, 962],\n",
              "        [794, 177, 312, 485, 114],\n",
              "        [983, 389, 248, 268, 636],\n",
              "        [577, 542, 896, 822, 747]]])"
            ]
          },
          "metadata": {},
          "execution_count": 19
        }
      ]
    },
    {
      "cell_type": "code",
      "source": [
        "np.random.seed(1)\n",
        "np.random.uniform(100,1000,(5,5)) ## uniform for floating number"
      ],
      "metadata": {
        "id": "mZ-24HtSzpL1",
        "colab": {
          "base_uri": "https://localhost:8080/"
        },
        "outputId": "9f767359-3f99-4c3f-bdf9-556fd603bb99"
      },
      "execution_count": 20,
      "outputs": [
        {
          "output_type": "execute_result",
          "data": {
            "text/plain": [
              "array([[475.31980423, 748.2920441 , 100.10293734, 372.09931537,\n",
              "        232.08030174],\n",
              "       [183.10473529, 267.63419024, 411.00465434, 457.09072681,\n",
              "        584.9350606 ],\n",
              "       [477.27506296, 716.69755036, 284.00702476, 890.30569275,\n",
              "        124.64883388],\n",
              "       [703.42075916, 475.57432213, 602.8208456 , 226.34824474,\n",
              "        278.29134018],\n",
              "       [820.67011181, 971.43541815, 382.08176034, 723.0903541 ,\n",
              "        888.75023707]])"
            ]
          },
          "metadata": {},
          "execution_count": 20
        }
      ]
    },
    {
      "cell_type": "code",
      "source": [
        "a = np.random.uniform(100,1000,(5,5))\n",
        "np.round(a,2)  #round for extracting number"
      ],
      "metadata": {
        "id": "pJGnl1Qyz_Dd",
        "colab": {
          "base_uri": "https://localhost:8080/"
        },
        "outputId": "9ed27951-ae62-4962-f35e-d95fe39277a0"
      },
      "execution_count": 21,
      "outputs": [
        {
          "output_type": "execute_result",
          "data": {
            "text/plain": [
              "array([[905.15, 176.54, 135.15, 252.85, 890.33],\n",
              "       [188.51, 479.  , 962.1 , 579.85, 722.69],\n",
              "       [383.96, 717.85, 851.16, 116.46, 775.13],\n",
              "       [989.97, 773.35, 352.4 , 810.35, 192.9 ],\n",
              "       [503.1 , 917.74, 364.25, 359.  , 217.03]])"
            ]
          },
          "metadata": {},
          "execution_count": 21
        }
      ]
    },
    {
      "cell_type": "code",
      "source": [
        "a = np.random.uniform(100,1000,(5,5))\n",
        "np.ceil(a) #ceil for uptill dot"
      ],
      "metadata": {
        "id": "Sff82rmV0MUg",
        "colab": {
          "base_uri": "https://localhost:8080/"
        },
        "outputId": "34cb064a-32bf-4898-c7f1-042884052fa7"
      },
      "execution_count": 22,
      "outputs": [
        {
          "output_type": "execute_result",
          "data": {
            "text/plain": [
              "array([[118., 711., 291., 339., 543.],\n",
              "       [149., 617., 233., 631., 730.],\n",
              "       [193., 473., 725., 473., 145.],\n",
              "       [583., 698., 564., 951., 628.],\n",
              "       [914., 224., 226., 827., 458.]])"
            ]
          },
          "metadata": {},
          "execution_count": 22
        }
      ]
    },
    {
      "cell_type": "code",
      "source": [
        "#### Array Slicing"
      ],
      "metadata": {
        "id": "P1BYHbTb0Qpf"
      },
      "execution_count": 23,
      "outputs": []
    },
    {
      "cell_type": "code",
      "source": [
        "np.random.seed(1)\n",
        "arr = np.random.randint(1,20,(8,6))\n",
        "arr"
      ],
      "metadata": {
        "colab": {
          "base_uri": "https://localhost:8080/"
        },
        "id": "UvRwhNKb0-am",
        "outputId": "ffa777c4-fbdd-42a3-cd37-60689cd69517"
      },
      "execution_count": 24,
      "outputs": [
        {
          "output_type": "execute_result",
          "data": {
            "text/plain": [
              "array([[ 6, 12, 13,  9, 10, 12],\n",
              "       [ 6, 16,  1, 17,  2, 13],\n",
              "       [ 8, 14,  7, 19,  6, 19],\n",
              "       [12, 11, 15, 19,  5, 10],\n",
              "       [18,  1, 14, 10, 10,  8],\n",
              "       [ 2,  1, 18,  9, 14, 16],\n",
              "       [11,  9,  8,  4,  7, 18],\n",
              "       [ 4,  5, 18, 12, 13, 17]])"
            ]
          },
          "metadata": {},
          "execution_count": 24
        }
      ]
    },
    {
      "cell_type": "code",
      "source": [
        "arr[:,:]   ## rows,columns"
      ],
      "metadata": {
        "colab": {
          "base_uri": "https://localhost:8080/"
        },
        "id": "8Bj90RTz1E5e",
        "outputId": "dd7c3bef-7e1e-4938-bbac-b0a900a95bb0"
      },
      "execution_count": 25,
      "outputs": [
        {
          "output_type": "execute_result",
          "data": {
            "text/plain": [
              "array([[ 6, 12, 13,  9, 10, 12],\n",
              "       [ 6, 16,  1, 17,  2, 13],\n",
              "       [ 8, 14,  7, 19,  6, 19],\n",
              "       [12, 11, 15, 19,  5, 10],\n",
              "       [18,  1, 14, 10, 10,  8],\n",
              "       [ 2,  1, 18,  9, 14, 16],\n",
              "       [11,  9,  8,  4,  7, 18],\n",
              "       [ 4,  5, 18, 12, 13, 17]])"
            ]
          },
          "metadata": {},
          "execution_count": 25
        }
      ]
    },
    {
      "cell_type": "code",
      "source": [
        "arr[2:6,2:5]"
      ],
      "metadata": {
        "colab": {
          "base_uri": "https://localhost:8080/"
        },
        "id": "fXGhv9he1izC",
        "outputId": "cd00659a-4153-43b3-bc97-af1f6fa44b3d"
      },
      "execution_count": 26,
      "outputs": [
        {
          "output_type": "execute_result",
          "data": {
            "text/plain": [
              "array([[ 7, 19,  6],\n",
              "       [15, 19,  5],\n",
              "       [14, 10, 10],\n",
              "       [18,  9, 14]])"
            ]
          },
          "metadata": {},
          "execution_count": 26
        }
      ]
    },
    {
      "cell_type": "code",
      "source": [
        "arr[3,3]"
      ],
      "metadata": {
        "colab": {
          "base_uri": "https://localhost:8080/"
        },
        "id": "X1i05yx81_HG",
        "outputId": "fe2308a1-283a-4a0a-c4c5-c3a5a3f07284"
      },
      "execution_count": 27,
      "outputs": [
        {
          "output_type": "execute_result",
          "data": {
            "text/plain": [
              "19"
            ]
          },
          "metadata": {},
          "execution_count": 27
        }
      ]
    },
    {
      "cell_type": "code",
      "source": [
        "### Array Functions"
      ],
      "metadata": {
        "id": "N1bt1EH_2dAU"
      },
      "execution_count": 28,
      "outputs": []
    },
    {
      "cell_type": "code",
      "source": [
        "arr"
      ],
      "metadata": {
        "colab": {
          "base_uri": "https://localhost:8080/"
        },
        "id": "TwEN7Qjd2t8f",
        "outputId": "5c97dcf5-0c12-4cb7-f974-016820df37d5"
      },
      "execution_count": 29,
      "outputs": [
        {
          "output_type": "execute_result",
          "data": {
            "text/plain": [
              "array([[ 6, 12, 13,  9, 10, 12],\n",
              "       [ 6, 16,  1, 17,  2, 13],\n",
              "       [ 8, 14,  7, 19,  6, 19],\n",
              "       [12, 11, 15, 19,  5, 10],\n",
              "       [18,  1, 14, 10, 10,  8],\n",
              "       [ 2,  1, 18,  9, 14, 16],\n",
              "       [11,  9,  8,  4,  7, 18],\n",
              "       [ 4,  5, 18, 12, 13, 17]])"
            ]
          },
          "metadata": {},
          "execution_count": 29
        }
      ]
    },
    {
      "cell_type": "code",
      "source": [
        "print(arr.sum())\n",
        "print(arr.sum(axis=0))  ## column wise\n",
        "print(arr.sum(axis=1))  # row wise"
      ],
      "metadata": {
        "id": "_5Hgfb_o2vYl",
        "colab": {
          "base_uri": "https://localhost:8080/"
        },
        "outputId": "db437f44-28d9-401e-e60e-0aa5b211b9f3"
      },
      "execution_count": 30,
      "outputs": [
        {
          "output_type": "stream",
          "name": "stdout",
          "text": [
            "509\n",
            "[ 67  69  94  99  67 113]\n",
            "[62 55 73 72 61 60 57 69]\n"
          ]
        }
      ]
    },
    {
      "cell_type": "code",
      "source": [
        "print(arr.mean())\n",
        "print(arr.mean(axis=0))  ## column wise\n",
        "print(arr.mean(axis=1))  # row wise"
      ],
      "metadata": {
        "id": "opxB0MFF23yW",
        "colab": {
          "base_uri": "https://localhost:8080/"
        },
        "outputId": "94f35562-dd62-42e7-a432-752f9c36425a"
      },
      "execution_count": 31,
      "outputs": [
        {
          "output_type": "stream",
          "name": "stdout",
          "text": [
            "10.604166666666666\n",
            "[ 8.375  8.625 11.75  12.375  8.375 14.125]\n",
            "[10.33333333  9.16666667 12.16666667 12.         10.16666667 10.\n",
            "  9.5        11.5       ]\n"
          ]
        }
      ]
    },
    {
      "cell_type": "code",
      "source": [
        "print(arr.min())\n",
        "print(arr.min(axis=0))  ## column wise\n",
        "print(arr.min(axis=1))  # row wise"
      ],
      "metadata": {
        "id": "j_0LsMzO3YA9",
        "colab": {
          "base_uri": "https://localhost:8080/"
        },
        "outputId": "fc37f571-41cd-4354-be81-c16f9c09a025"
      },
      "execution_count": 32,
      "outputs": [
        {
          "output_type": "stream",
          "name": "stdout",
          "text": [
            "1\n",
            "[2 1 1 4 2 8]\n",
            "[6 1 6 5 1 1 4 4]\n"
          ]
        }
      ]
    },
    {
      "cell_type": "code",
      "source": [
        "print(arr.max())\n",
        "print(arr.max(axis=0))  ## column wise\n",
        "print(arr.max(axis=1))  # row wise"
      ],
      "metadata": {
        "id": "1PDwKaT33f-3",
        "colab": {
          "base_uri": "https://localhost:8080/"
        },
        "outputId": "b05dca66-9483-4089-ec7e-072152f344fe"
      },
      "execution_count": 33,
      "outputs": [
        {
          "output_type": "stream",
          "name": "stdout",
          "text": [
            "19\n",
            "[18 16 18 19 14 19]\n",
            "[13 17 19 19 18 18 18 18]\n"
          ]
        }
      ]
    },
    {
      "cell_type": "code",
      "source": [
        "print(arr.argmin())  ## position of minimum number\n",
        "print(arr.argmin(axis=0))  ## column wise\n",
        "print(arr.argmin(axis=1))  # row wise"
      ],
      "metadata": {
        "colab": {
          "base_uri": "https://localhost:8080/"
        },
        "id": "_ThY7o--3iUZ",
        "outputId": "588c72d1-3223-4c09-ec90-9d5aabfe4b5c"
      },
      "execution_count": 34,
      "outputs": [
        {
          "output_type": "stream",
          "name": "stdout",
          "text": [
            "8\n",
            "[5 4 1 6 1 4]\n",
            "[0 2 4 4 1 1 3 0]\n"
          ]
        }
      ]
    },
    {
      "cell_type": "code",
      "source": [
        "arr"
      ],
      "metadata": {
        "colab": {
          "base_uri": "https://localhost:8080/"
        },
        "id": "8VAv7ueN389W",
        "outputId": "6eb3d927-3f4b-4529-e50f-1a4e1d7eeba8"
      },
      "execution_count": 35,
      "outputs": [
        {
          "output_type": "execute_result",
          "data": {
            "text/plain": [
              "array([[ 6, 12, 13,  9, 10, 12],\n",
              "       [ 6, 16,  1, 17,  2, 13],\n",
              "       [ 8, 14,  7, 19,  6, 19],\n",
              "       [12, 11, 15, 19,  5, 10],\n",
              "       [18,  1, 14, 10, 10,  8],\n",
              "       [ 2,  1, 18,  9, 14, 16],\n",
              "       [11,  9,  8,  4,  7, 18],\n",
              "       [ 4,  5, 18, 12, 13, 17]])"
            ]
          },
          "metadata": {},
          "execution_count": 35
        }
      ]
    },
    {
      "cell_type": "code",
      "source": [
        "print(arr.argmax())   ## position of maximum number\n",
        "print(arr.argmax(axis=0))  ## column wise\n",
        "print(arr.argmax(axis=1))  # row wise"
      ],
      "metadata": {
        "colab": {
          "base_uri": "https://localhost:8080/"
        },
        "id": "oybj4QvW3s8Q",
        "outputId": "b2d53262-1e79-45be-df41-c5a617e40747"
      },
      "execution_count": 36,
      "outputs": [
        {
          "output_type": "stream",
          "name": "stdout",
          "text": [
            "15\n",
            "[4 1 5 2 5 2]\n",
            "[2 3 3 3 0 2 5 2]\n"
          ]
        }
      ]
    },
    {
      "cell_type": "code",
      "source": [
        "arr"
      ],
      "metadata": {
        "colab": {
          "base_uri": "https://localhost:8080/"
        },
        "id": "oLZRux2d3v4q",
        "outputId": "77d8b562-4c81-4b85-c929-187718946ded"
      },
      "execution_count": 37,
      "outputs": [
        {
          "output_type": "execute_result",
          "data": {
            "text/plain": [
              "array([[ 6, 12, 13,  9, 10, 12],\n",
              "       [ 6, 16,  1, 17,  2, 13],\n",
              "       [ 8, 14,  7, 19,  6, 19],\n",
              "       [12, 11, 15, 19,  5, 10],\n",
              "       [18,  1, 14, 10, 10,  8],\n",
              "       [ 2,  1, 18,  9, 14, 16],\n",
              "       [11,  9,  8,  4,  7, 18],\n",
              "       [ 4,  5, 18, 12, 13, 17]])"
            ]
          },
          "metadata": {},
          "execution_count": 37
        }
      ]
    },
    {
      "cell_type": "code",
      "source": [
        "### Change shape of dimension of array\n",
        "arr.shape"
      ],
      "metadata": {
        "colab": {
          "base_uri": "https://localhost:8080/"
        },
        "id": "rFPOuhHv4UvG",
        "outputId": "aff28dc1-156a-4003-c030-f3c532f825ac"
      },
      "execution_count": 38,
      "outputs": [
        {
          "output_type": "execute_result",
          "data": {
            "text/plain": [
              "(8, 6)"
            ]
          },
          "metadata": {},
          "execution_count": 38
        }
      ]
    },
    {
      "cell_type": "code",
      "source": [
        "arr.size"
      ],
      "metadata": {
        "colab": {
          "base_uri": "https://localhost:8080/"
        },
        "id": "V7WsbntE5IQR",
        "outputId": "5d72580d-abb3-4a81-8fb7-9384af05fc3a"
      },
      "execution_count": 39,
      "outputs": [
        {
          "output_type": "execute_result",
          "data": {
            "text/plain": [
              "48"
            ]
          },
          "metadata": {},
          "execution_count": 39
        }
      ]
    },
    {
      "cell_type": "code",
      "source": [
        "arr_1 = arr.reshape(48)\n",
        "arr_2 = arr.reshape(4,12)   ## (6,8),(4,12),(12,4),(24,2),(2,24),(48,1),(1,48)\n",
        "arr_3 = arr.reshape(3,2,8)"
      ],
      "metadata": {
        "id": "XqBZi4of4ahn"
      },
      "execution_count": 40,
      "outputs": []
    },
    {
      "cell_type": "code",
      "source": [
        "arr"
      ],
      "metadata": {
        "colab": {
          "base_uri": "https://localhost:8080/"
        },
        "id": "wQtzxc8K4vgt",
        "outputId": "10a1d588-d9ba-414a-c40d-d2eec1fabf0f"
      },
      "execution_count": 41,
      "outputs": [
        {
          "output_type": "execute_result",
          "data": {
            "text/plain": [
              "array([[ 6, 12, 13,  9, 10, 12],\n",
              "       [ 6, 16,  1, 17,  2, 13],\n",
              "       [ 8, 14,  7, 19,  6, 19],\n",
              "       [12, 11, 15, 19,  5, 10],\n",
              "       [18,  1, 14, 10, 10,  8],\n",
              "       [ 2,  1, 18,  9, 14, 16],\n",
              "       [11,  9,  8,  4,  7, 18],\n",
              "       [ 4,  5, 18, 12, 13, 17]])"
            ]
          },
          "metadata": {},
          "execution_count": 41
        }
      ]
    },
    {
      "cell_type": "code",
      "source": [
        "arr.astype('float32')"
      ],
      "metadata": {
        "colab": {
          "base_uri": "https://localhost:8080/"
        },
        "id": "HZ8-LAVx5rUY",
        "outputId": "630c4414-2d1d-4e83-b400-64641b05bcd7"
      },
      "execution_count": 42,
      "outputs": [
        {
          "output_type": "execute_result",
          "data": {
            "text/plain": [
              "array([[ 6., 12., 13.,  9., 10., 12.],\n",
              "       [ 6., 16.,  1., 17.,  2., 13.],\n",
              "       [ 8., 14.,  7., 19.,  6., 19.],\n",
              "       [12., 11., 15., 19.,  5., 10.],\n",
              "       [18.,  1., 14., 10., 10.,  8.],\n",
              "       [ 2.,  1., 18.,  9., 14., 16.],\n",
              "       [11.,  9.,  8.,  4.,  7., 18.],\n",
              "       [ 4.,  5., 18., 12., 13., 17.]], dtype=float32)"
            ]
          },
          "metadata": {},
          "execution_count": 42
        }
      ]
    },
    {
      "cell_type": "code",
      "source": [
        "arr.astype('int32')"
      ],
      "metadata": {
        "colab": {
          "base_uri": "https://localhost:8080/"
        },
        "id": "DSVZR8uf50Z8",
        "outputId": "2eb4a5e6-1985-42ab-bc3f-ef99824bbcef"
      },
      "execution_count": 43,
      "outputs": [
        {
          "output_type": "execute_result",
          "data": {
            "text/plain": [
              "array([[ 6, 12, 13,  9, 10, 12],\n",
              "       [ 6, 16,  1, 17,  2, 13],\n",
              "       [ 8, 14,  7, 19,  6, 19],\n",
              "       [12, 11, 15, 19,  5, 10],\n",
              "       [18,  1, 14, 10, 10,  8],\n",
              "       [ 2,  1, 18,  9, 14, 16],\n",
              "       [11,  9,  8,  4,  7, 18],\n",
              "       [ 4,  5, 18, 12, 13, 17]], dtype=int32)"
            ]
          },
          "metadata": {},
          "execution_count": 43
        }
      ]
    },
    {
      "cell_type": "code",
      "source": [
        "arr.astype('str')"
      ],
      "metadata": {
        "colab": {
          "base_uri": "https://localhost:8080/"
        },
        "id": "cnklgUJr54Ac",
        "outputId": "7d994a95-3981-44eb-f88a-1ef6cb1ffdde"
      },
      "execution_count": 44,
      "outputs": [
        {
          "output_type": "execute_result",
          "data": {
            "text/plain": [
              "array([['6', '12', '13', '9', '10', '12'],\n",
              "       ['6', '16', '1', '17', '2', '13'],\n",
              "       ['8', '14', '7', '19', '6', '19'],\n",
              "       ['12', '11', '15', '19', '5', '10'],\n",
              "       ['18', '1', '14', '10', '10', '8'],\n",
              "       ['2', '1', '18', '9', '14', '16'],\n",
              "       ['11', '9', '8', '4', '7', '18'],\n",
              "       ['4', '5', '18', '12', '13', '17']], dtype='<U21')"
            ]
          },
          "metadata": {},
          "execution_count": 44
        }
      ]
    },
    {
      "cell_type": "code",
      "source": [
        "np.sum(arr)"
      ],
      "metadata": {
        "colab": {
          "base_uri": "https://localhost:8080/"
        },
        "id": "S2CTsSWw56mL",
        "outputId": "d66802e7-e3a3-4b2d-f353-70f4da43e17d"
      },
      "execution_count": 45,
      "outputs": [
        {
          "output_type": "execute_result",
          "data": {
            "text/plain": [
              "509"
            ]
          },
          "metadata": {},
          "execution_count": 45
        }
      ]
    },
    {
      "cell_type": "code",
      "source": [
        "### Standard Matrices\n",
        "np.zeros((5,5),np.uint8)"
      ],
      "metadata": {
        "colab": {
          "base_uri": "https://localhost:8080/"
        },
        "id": "0iSHpG2H6bCa",
        "outputId": "38de4f49-4106-4a2e-a3c7-f1c430a4c8ad"
      },
      "execution_count": 46,
      "outputs": [
        {
          "output_type": "execute_result",
          "data": {
            "text/plain": [
              "array([[0, 0, 0, 0, 0],\n",
              "       [0, 0, 0, 0, 0],\n",
              "       [0, 0, 0, 0, 0],\n",
              "       [0, 0, 0, 0, 0],\n",
              "       [0, 0, 0, 0, 0]], dtype=uint8)"
            ]
          },
          "metadata": {},
          "execution_count": 46
        }
      ]
    },
    {
      "cell_type": "code",
      "source": [
        "np.ones((5,5),np.uint8)"
      ],
      "metadata": {
        "colab": {
          "base_uri": "https://localhost:8080/"
        },
        "id": "08jjIeI96smH",
        "outputId": "3e9663d2-6327-46a5-e19a-725847cea28d"
      },
      "execution_count": 47,
      "outputs": [
        {
          "output_type": "execute_result",
          "data": {
            "text/plain": [
              "array([[1, 1, 1, 1, 1],\n",
              "       [1, 1, 1, 1, 1],\n",
              "       [1, 1, 1, 1, 1],\n",
              "       [1, 1, 1, 1, 1],\n",
              "       [1, 1, 1, 1, 1]], dtype=uint8)"
            ]
          },
          "metadata": {},
          "execution_count": 47
        }
      ]
    },
    {
      "cell_type": "code",
      "source": [
        "np.identity(5,np.uint8)"
      ],
      "metadata": {
        "colab": {
          "base_uri": "https://localhost:8080/"
        },
        "id": "DfJKtvSH7UoW",
        "outputId": "464725d8-0473-4322-df72-24a51e75aa69"
      },
      "execution_count": 48,
      "outputs": [
        {
          "output_type": "execute_result",
          "data": {
            "text/plain": [
              "array([[1, 0, 0, 0, 0],\n",
              "       [0, 1, 0, 0, 0],\n",
              "       [0, 0, 1, 0, 0],\n",
              "       [0, 0, 0, 1, 0],\n",
              "       [0, 0, 0, 0, 1]], dtype=uint8)"
            ]
          },
          "metadata": {},
          "execution_count": 48
        }
      ]
    },
    {
      "cell_type": "code",
      "source": [
        "### Random String\n",
        "import random\n",
        "mystr = \"1234567890-=qwertyuiopasdfghjkl'zxccvbn,.!@#$%^&*()_+\"\n",
        "length = 10\n",
        "random_string = \"\".join(random.sample(mystr,length))\n",
        "random_string"
      ],
      "metadata": {
        "colab": {
          "base_uri": "https://localhost:8080/",
          "height": 35
        },
        "id": "ASjeamhK7jW5",
        "outputId": "ec8c0d7e-f6d3-4c77-fe9e-3131753be6b4"
      },
      "execution_count": 49,
      "outputs": [
        {
          "output_type": "execute_result",
          "data": {
            "text/plain": [
              "'4rj98q%b=d'"
            ],
            "application/vnd.google.colaboratory.intrinsic+json": {
              "type": "string"
            }
          },
          "metadata": {},
          "execution_count": 49
        }
      ]
    },
    {
      "cell_type": "code",
      "source": [
        ""
      ],
      "metadata": {
        "id": "SagxYo5r8YCP"
      },
      "execution_count": 49,
      "outputs": []
    }
  ]
}